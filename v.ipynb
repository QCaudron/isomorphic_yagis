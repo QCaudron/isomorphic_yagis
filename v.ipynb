{
 "cells": [
  {
   "cell_type": "code",
   "execution_count": 1,
   "metadata": {},
   "outputs": [],
   "source": [
    "from isomorphic_yagis.algorithm import initialise, differential_evolution"
   ]
  },
  {
   "cell_type": "code",
   "execution_count": 2,
   "metadata": {},
   "outputs": [
    {
     "name": "stderr",
     "output_type": "stream",
     "text": [
      "2023-07-06 21:30:10,881\tINFO worker.py:1544 -- Started a local Ray instance. View the dashboard at \u001b[1m\u001b[32m127.0.0.1:8265 \u001b[39m\u001b[22m\n",
      "  0%|          | 0/5 [00:00<?, ?it/s]\n",
      "\u001b[2m\u001b[33m(raylet)\u001b[0m c:\\Users\\Quentin\\anaconda3_2023\\lib\\site-packages\\ray\\dashboard\\modules\\reporter\\reporter_agent.py:56: UserWarning: `gpustat` package is not installed. GPU monitoring is not available. To have full functionality of the dashboard please install `pip install ray[default]`.)\n",
      "\u001b[2m\u001b[33m(raylet)\u001b[0m   warnings.warn(\n"
     ]
    },
    {
     "ename": "RayTaskError(FileNotFoundError)",
     "evalue": "\u001b[36mray::evaluate_antenna_with_ray()\u001b[39m (pid=22876, ip=127.0.0.1)\n  File \"python\\ray\\_raylet.pyx\", line 857, in ray._raylet.execute_task\n  File \"python\\ray\\_raylet.pyx\", line 861, in ray._raylet.execute_task\n  File \"c:\\Users\\Quentin\\Documents\\GitHub\\isomorphic_yagis\\isomorphic_yagis\\algorithm.py\", line 16, in evaluate_antenna_with_ray\n    return evaluate_antenna(antenna)\n  File \"c:\\Users\\Quentin\\Documents\\GitHub\\isomorphic_yagis\\isomorphic_yagis\\nec.py\", line 119, in evaluate_antenna\n    process = Popen(command, stdin=PIPE, stdout=PIPE, stderr=PIPE)\n  File \"c:\\Users\\Quentin\\anaconda3_2023\\lib\\subprocess.py\", line 971, in __init__\n    self._execute_child(args, executable, preexec_fn, close_fds,\n  File \"c:\\Users\\Quentin\\anaconda3_2023\\lib\\subprocess.py\", line 1456, in _execute_child\n    hp, ht, pid, tid = _winapi.CreateProcess(executable, args,\nFileNotFoundError: [WinError 2] The system cannot find the file specified",
     "output_type": "error",
     "traceback": [
      "\u001b[1;31m---------------------------------------------------------------------------\u001b[0m",
      "\u001b[1;31mRayTaskError(FileNotFoundError)\u001b[0m           Traceback (most recent call last)",
      "Cell \u001b[1;32mIn[2], line 1\u001b[0m\n\u001b[1;32m----> 1\u001b[0m output \u001b[39m=\u001b[39m differential_evolution(n_population\u001b[39m=\u001b[39;49m\u001b[39m30\u001b[39;49m, n_generations\u001b[39m=\u001b[39;49m\u001b[39m5\u001b[39;49m)\n",
      "File \u001b[1;32mc:\\Users\\Quentin\\Documents\\GitHub\\isomorphic_yagis\\isomorphic_yagis\\algorithm.py:130\u001b[0m, in \u001b[0;36mdifferential_evolution\u001b[1;34m(n_population, n_generations, init, checkpoint, bands)\u001b[0m\n\u001b[0;32m    128\u001b[0m \u001b[39m# Mutate antennas and reevaluate fitness\u001b[39;00m\n\u001b[0;32m    129\u001b[0m mutated_antennas \u001b[39m=\u001b[39m mutate(antennas)\n\u001b[1;32m--> 130\u001b[0m new_fitness \u001b[39m=\u001b[39m evaluate_generation(mutated_antennas)\n\u001b[0;32m    132\u001b[0m \u001b[39m# Compute some metrics\u001b[39;00m\n\u001b[0;32m    133\u001b[0m accepted\u001b[39m.\u001b[39mappend((fitness \u001b[39m<\u001b[39m new_fitness)\u001b[39m.\u001b[39mmean())\n",
      "File \u001b[1;32mc:\\Users\\Quentin\\Documents\\GitHub\\isomorphic_yagis\\isomorphic_yagis\\algorithm.py:68\u001b[0m, in \u001b[0;36mevaluate_generation\u001b[1;34m(antennas)\u001b[0m\n\u001b[0;32m     64\u001b[0m \u001b[39m\u001b[39m\u001b[39m\"\"\"\u001b[39;00m\n\u001b[0;32m     65\u001b[0m \u001b[39mReturn an array of fitness values for the given antennas.\u001b[39;00m\n\u001b[0;32m     66\u001b[0m \u001b[39m\"\"\"\u001b[39;00m\n\u001b[0;32m     67\u001b[0m results \u001b[39m=\u001b[39m [evaluate_antenna_with_ray\u001b[39m.\u001b[39mremote(antenna) \u001b[39mfor\u001b[39;00m antenna \u001b[39min\u001b[39;00m antennas]\n\u001b[1;32m---> 68\u001b[0m \u001b[39mreturn\u001b[39;00m np\u001b[39m.\u001b[39marray(ray\u001b[39m.\u001b[39;49mget(results))\n",
      "File \u001b[1;32mc:\\Users\\Quentin\\anaconda3_2023\\lib\\site-packages\\ray\\_private\\client_mode_hook.py:105\u001b[0m, in \u001b[0;36mclient_mode_hook.<locals>.wrapper\u001b[1;34m(*args, **kwargs)\u001b[0m\n\u001b[0;32m    103\u001b[0m     \u001b[39mif\u001b[39;00m func\u001b[39m.\u001b[39m\u001b[39m__name__\u001b[39m \u001b[39m!=\u001b[39m \u001b[39m\"\u001b[39m\u001b[39minit\u001b[39m\u001b[39m\"\u001b[39m \u001b[39mor\u001b[39;00m is_client_mode_enabled_by_default:\n\u001b[0;32m    104\u001b[0m         \u001b[39mreturn\u001b[39;00m \u001b[39mgetattr\u001b[39m(ray, func\u001b[39m.\u001b[39m\u001b[39m__name__\u001b[39m)(\u001b[39m*\u001b[39margs, \u001b[39m*\u001b[39m\u001b[39m*\u001b[39mkwargs)\n\u001b[1;32m--> 105\u001b[0m \u001b[39mreturn\u001b[39;00m func(\u001b[39m*\u001b[39margs, \u001b[39m*\u001b[39m\u001b[39m*\u001b[39mkwargs)\n",
      "File \u001b[1;32mc:\\Users\\Quentin\\anaconda3_2023\\lib\\site-packages\\ray\\_private\\worker.py:2380\u001b[0m, in \u001b[0;36mget\u001b[1;34m(object_refs, timeout)\u001b[0m\n\u001b[0;32m   2378\u001b[0m     worker\u001b[39m.\u001b[39mcore_worker\u001b[39m.\u001b[39mdump_object_store_memory_usage()\n\u001b[0;32m   2379\u001b[0m \u001b[39mif\u001b[39;00m \u001b[39misinstance\u001b[39m(value, RayTaskError):\n\u001b[1;32m-> 2380\u001b[0m     \u001b[39mraise\u001b[39;00m value\u001b[39m.\u001b[39mas_instanceof_cause()\n\u001b[0;32m   2381\u001b[0m \u001b[39melse\u001b[39;00m:\n\u001b[0;32m   2382\u001b[0m     \u001b[39mraise\u001b[39;00m value\n",
      "\u001b[1;31mRayTaskError(FileNotFoundError)\u001b[0m: \u001b[36mray::evaluate_antenna_with_ray()\u001b[39m (pid=22876, ip=127.0.0.1)\n  File \"python\\ray\\_raylet.pyx\", line 857, in ray._raylet.execute_task\n  File \"python\\ray\\_raylet.pyx\", line 861, in ray._raylet.execute_task\n  File \"c:\\Users\\Quentin\\Documents\\GitHub\\isomorphic_yagis\\isomorphic_yagis\\algorithm.py\", line 16, in evaluate_antenna_with_ray\n    return evaluate_antenna(antenna)\n  File \"c:\\Users\\Quentin\\Documents\\GitHub\\isomorphic_yagis\\isomorphic_yagis\\nec.py\", line 119, in evaluate_antenna\n    process = Popen(command, stdin=PIPE, stdout=PIPE, stderr=PIPE)\n  File \"c:\\Users\\Quentin\\anaconda3_2023\\lib\\subprocess.py\", line 971, in __init__\n    self._execute_child(args, executable, preexec_fn, close_fds,\n  File \"c:\\Users\\Quentin\\anaconda3_2023\\lib\\subprocess.py\", line 1456, in _execute_child\n    hp, ht, pid, tid = _winapi.CreateProcess(executable, args,\nFileNotFoundError: [WinError 2] The system cannot find the file specified"
     ]
    }
   ],
   "source": [
    "output = differential_evolution(n_population=30, n_generations=5)"
   ]
  },
  {
   "cell_type": "code",
   "execution_count": null,
   "metadata": {},
   "outputs": [],
   "source": []
  },
  {
   "cell_type": "code",
   "execution_count": null,
   "metadata": {},
   "outputs": [],
   "source": []
  },
  {
   "cell_type": "code",
   "execution_count": null,
   "metadata": {},
   "outputs": [],
   "source": []
  },
  {
   "cell_type": "code",
   "execution_count": null,
   "metadata": {},
   "outputs": [],
   "source": []
  },
  {
   "cell_type": "code",
   "execution_count": null,
   "metadata": {},
   "outputs": [],
   "source": []
  },
  {
   "cell_type": "code",
   "execution_count": 298,
   "metadata": {
    "scrolled": true
   },
   "outputs": [
    {
     "name": "stderr",
     "output_type": "stream",
     "text": [
      " 68%|██████▊   | 136/200 [1:17:15<22:10, 20.79s/it]  "
     ]
    }
   ],
   "source": [
    "output = diffev(500, 100, init=output)\n",
    "antennas, fitness, history, accepted, variance, generation_time, best_antenna = plot_results(output)\n",
    "best_antenna"
   ]
  },
  {
   "cell_type": "code",
   "execution_count": null,
   "metadata": {},
   "outputs": [],
   "source": [
    "output = diffev(500, 100, init=output)\n",
    "antennas, fitness, history, accepted, variance, generation_time, best_antenna = plot_results(output)\n",
    "best_antenna"
   ]
  },
  {
   "cell_type": "code",
   "execution_count": 295,
   "metadata": {},
   "outputs": [
    {
     "data": {
      "text/plain": [
       "{'80': {'gain': 6.468778, 'swr': 1.045499537170932},\n",
       " '40': {'gain': 9.020618, 'swr': 1.0215937355805926},\n",
       " '20': {'gain': 7.721933, 'swr': 1.552323946508503},\n",
       " '15': {'gain': 8.051352, 'swr': 1.3184711566540495},\n",
       " '10': {'gain': 8.998169, 'swr': 1.4876045855050741}}"
      ]
     },
     "execution_count": 295,
     "metadata": {},
     "output_type": "execute_result"
    }
   ],
   "source": [
    "evaluate_configuration(best_antenna, write=True)"
   ]
  },
  {
   "cell_type": "code",
   "execution_count": 296,
   "metadata": {},
   "outputs": [
    {
     "data": {
      "text/plain": [
       "array([5.57598313, 5.65575073, 5.52411859, 5.65480335, 5.7044656 ,\n",
       "       5.61841969, 5.56277056, 5.60954683, 5.56330927, 5.54709955,\n",
       "       5.6707696 , 5.65282092, 5.58942823, 5.5651907 , 5.60450365,\n",
       "       5.65898778, 5.56812576, 5.45671498, 5.64460156, 5.54554098,\n",
       "       5.62029018, 5.5367197 , 5.60305406, 5.56268635, 5.5630592 ,\n",
       "       5.49887557, 5.61327923, 5.58697961, 5.59818868, 5.62482704,\n",
       "       5.58908345, 5.67365416, 5.73036839, 5.64547832, 5.57733718,\n",
       "       5.57292694, 5.53019232, 5.5247643 , 5.68894509, 5.64420609,\n",
       "       5.61965347, 5.60046737, 5.5063249 , 5.68270916, 5.55363426,\n",
       "       5.54695689, 5.61126289, 5.57072428, 5.65164121, 5.52999411,\n",
       "       5.55470596, 5.60396207, 5.56419793, 5.44691564, 5.58202918,\n",
       "       5.67741081, 5.64035255, 5.6091613 , 5.53241954, 5.59132866,\n",
       "       5.56455194, 5.63835508, 5.6224816 , 5.67403839, 5.51003182,\n",
       "       5.53883957, 5.61517626, 5.53252576, 5.57040698, 5.60559888,\n",
       "       5.58524597, 5.61755685, 5.63169898, 5.67098799, 5.67838595,\n",
       "       5.72111459, 5.60479409, 5.5629578 , 5.64367391, 5.50572406,\n",
       "       5.68581703, 5.58989361, 5.54879483, 5.58833058, 5.61611477,\n",
       "       5.62687594, 5.52456151, 5.62378301, 5.68431767, 5.63835508,\n",
       "       5.59588049, 5.67351086, 5.68579038, 5.55838559, 5.61063176,\n",
       "       5.60955613, 5.71988419, 5.99171129, 5.66447353, 5.71868542])"
      ]
     },
     "execution_count": 296,
     "metadata": {},
     "output_type": "execute_result"
    }
   ],
   "source": [
    "fitness"
   ]
  }
 ],
 "metadata": {
  "kernelspec": {
   "display_name": "Python 3 (ipykernel)",
   "language": "python",
   "name": "python3"
  },
  "language_info": {
   "codemirror_mode": {
    "name": "ipython",
    "version": 3
   },
   "file_extension": ".py",
   "mimetype": "text/x-python",
   "name": "python",
   "nbconvert_exporter": "python",
   "pygments_lexer": "ipython3",
   "version": "3.10.12"
  },
  "vscode": {
   "interpreter": {
    "hash": "37d6d8cc07b7998095c12f9be0dc157f2928b651d680c46140cf05053f8b6ba2"
   }
  }
 },
 "nbformat": 4,
 "nbformat_minor": 4
}
